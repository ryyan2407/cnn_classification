{
 "cells": [
  {
   "cell_type": "code",
   "execution_count": 56,
   "metadata": {},
   "outputs": [],
   "source": [
    "from torchvision import transforms, datasets\n",
    "from torch.utils.data import DataLoader, random_split\n",
    "import torchvision.models as models\n",
    "import torch.nn as nn\n"
   ]
  },
  {
   "cell_type": "code",
   "execution_count": 57,
   "metadata": {},
   "outputs": [],
   "source": [
    "from torchvision import datasets, transforms\n",
    "from torch.utils.data import Dataset, DataLoader\n",
    "import os\n",
    "from PIL import Image\n",
    "import tqdm\n",
    "\n",
    "\n",
    "class CatNotCatDataset(Dataset):\n",
    "    def __init__(self, root_dir, transform=None):\n",
    "        \"\"\"\n",
    "        Args:\n",
    "            root_dir (string): Directory with all the animal subdirectories.\n",
    "            transform (callable, optional): Optional transform to be applied on a sample.\n",
    "        \"\"\"\n",
    "        self.root_dir = root_dir\n",
    "        self.transform = transform\n",
    "        self.samples = []\n",
    "\n",
    "        # Separate handling for 'cat' and 'not cat' images\n",
    "        for sub_dir in os.listdir(root_dir):\n",
    "            class_path = os.path.join(root_dir, sub_dir)\n",
    "            if os.path.isdir(class_path):\n",
    "                # Label 1 for cat, 0 for not cat\n",
    "                label = 1 if sub_dir.lower() == 'cat' else 0\n",
    "                # If 'not cat', traverse further into subdirectories\n",
    "                if label == 0:\n",
    "                    for sub_class in os.listdir(class_path):\n",
    "                        sub_class_path = os.path.join(class_path, sub_class)\n",
    "                        if os.path.isdir(sub_class_path):\n",
    "                            for img_file in os.listdir(sub_class_path):\n",
    "                                if img_file.lower().endswith(('png', 'jpg', 'jpeg')):\n",
    "                                    img_path = os.path.join(sub_class_path, img_file)\n",
    "                                    self.samples.append((img_path, label))\n",
    "                else:\n",
    "                    for img_file in os.listdir(class_path):\n",
    "                        if img_file.lower().endswith(('png', 'jpg', 'jpeg')):\n",
    "                            img_path = os.path.join(class_path, img_file)\n",
    "                            self.samples.append((img_path, label))\n",
    "\n",
    "    def __len__(self):\n",
    "        return len(self.samples)\n",
    "\n",
    "    def __getitem__(self, idx):\n",
    "        img_path, label = self.samples[idx]\n",
    "        image = Image.open(img_path)\n",
    "        if self.transform:\n",
    "            image = self.transform(image)\n",
    "        return image, label\n"
   ]
  },
  {
   "cell_type": "code",
   "execution_count": 58,
   "metadata": {},
   "outputs": [],
   "source": [
    "transform = transforms.Compose([\n",
    "    transforms.Resize((224, 224)),  # Resize images to 224x224\n",
    "    transforms.ToTensor(),  # Convert images to PyTorch tensors\n",
    "    transforms.Normalize(mean=[0.485, 0.456, 0.406], std=[0.229, 0.224, 0.225]),  # ImageNet normalization\n",
    "])\n",
    "\n",
    "dataset = CatNotCatDataset(root_dir='animals', transform=transform)\n",
    "\n",
    "# Splitting dataset into training and validation sets\n",
    "train_size = int(0.8 * len(dataset))\n",
    "val_size = len(dataset) - train_size\n",
    "train_dataset, val_dataset = random_split(dataset, [train_size, val_size])\n",
    "\n",
    "# Creating data loaders\n",
    "train_loader = DataLoader(train_dataset, batch_size=32, shuffle=True)\n",
    "val_loader = DataLoader(val_dataset, batch_size=32, shuffle=False)"
   ]
  },
  {
   "cell_type": "code",
   "execution_count": 59,
   "metadata": {},
   "outputs": [],
   "source": [
    "# Define the ResNet-18 model class for binary classification\n",
    "class ResNet18Binary(nn.Module):\n",
    "    def __init__(self, pretrained=True):\n",
    "        super(ResNet18Binary, self).__init__()\n",
    "        self.resnet18 = models.resnet18(pretrained=pretrained)\n",
    "        num_ftrs = self.resnet18.fc.in_features\n",
    "        self.resnet18.fc = nn.Linear(num_ftrs, 2)\n",
    "\n",
    "    def forward(self, x):\n",
    "        return self.resnet18(x)"
   ]
  },
  {
   "cell_type": "code",
   "execution_count": 60,
   "metadata": {},
   "outputs": [],
   "source": [
    "import matplotlib.pyplot as plt\n",
    "\n",
    "def visualize_feature_maps(feature_maps):\n",
    "    # Assuming feature_maps is a list of tensors from the convolutional layers\n",
    "    for layer, f_map in enumerate(feature_maps):\n",
    "        layer += 1  # Start layer indexing at 1\n",
    "        plt.figure(figsize=(20, 15))\n",
    "        channels = f_map.shape[1]\n",
    "        \n",
    "        for i in range(channels):\n",
    "            plt.subplot(channels // 8 + 1, 8, i + 1)  # Arrange plots in a grid\n",
    "            plt.imshow(f_map[0, i].detach().cpu().numpy(), cmap='gray')\n",
    "            plt.axis('off')\n",
    "        \n",
    "        plt.show()\n"
   ]
  },
  {
   "cell_type": "code",
   "execution_count": 61,
   "metadata": {},
   "outputs": [
    {
     "name": "stderr",
     "output_type": "stream",
     "text": [
      "100%|██████████| 2/2 [00:04<00:00,  2.39s/it]\n",
      " 33%|███▎      | 1/3 [00:05<00:10,  5.20s/it]"
     ]
    },
    {
     "name": "stdout",
     "output_type": "stream",
     "text": [
      "Epoch 1, Loss: 0.4653880000114441, Validation Loss: 0.6210405230522156, Accuracy: 66.66666666666667%\n"
     ]
    },
    {
     "name": "stderr",
     "output_type": "stream",
     "text": [
      "100%|██████████| 2/2 [00:04<00:00,  2.40s/it]\n",
      " 67%|██████▋   | 2/3 [00:10<00:05,  5.22s/it]"
     ]
    },
    {
     "name": "stdout",
     "output_type": "stream",
     "text": [
      "Epoch 2, Loss: 0.4340703785419464, Validation Loss: 0.47446754574775696, Accuracy: 83.33333333333333%\n"
     ]
    },
    {
     "name": "stderr",
     "output_type": "stream",
     "text": [
      "100%|██████████| 2/2 [00:04<00:00,  2.16s/it]\n",
      "100%|██████████| 3/3 [00:15<00:00,  5.09s/it]"
     ]
    },
    {
     "name": "stdout",
     "output_type": "stream",
     "text": [
      "Epoch 3, Loss: 0.24981248378753662, Validation Loss: 0.3207429349422455, Accuracy: 91.66666666666667%\n",
      "Finished Training\n"
     ]
    },
    {
     "name": "stderr",
     "output_type": "stream",
     "text": [
      "\n"
     ]
    }
   ],
   "source": [
    "import torch\n",
    "# Function to train the model\n",
    "def train_model(model, train_loader, val_loader, num_epochs=5):\n",
    "    device = torch.device(\"cuda\" if torch.cuda.is_available() else \"cpu\")\n",
    "    model.to(device)\n",
    "    criterion = nn.CrossEntropyLoss()\n",
    "    optimizer = torch.optim.Adam(model.parameters(), lr=0.0001)\n",
    "    \n",
    "    for epoch in tqdm.tqdm(range(num_epochs)):\n",
    "        model.train()\n",
    "        running_loss = 0.0\n",
    "        for images, labels in tqdm.tqdm(train_loader):\n",
    "            images, labels = images.to(device), labels.to(device)\n",
    "            optimizer.zero_grad()\n",
    "            outputs = model(images)\n",
    "            loss = criterion(outputs, labels)\n",
    "            loss.backward()\n",
    "            optimizer.step()\n",
    "            running_loss += loss.item()\n",
    "        \n",
    "        # Validation phase\n",
    "        model.eval()\n",
    "        val_loss = 0.0\n",
    "        correct = 0\n",
    "        total = 0\n",
    "        with torch.no_grad():\n",
    "            for images, labels in val_loader:\n",
    "                images, labels = images.to(device), labels.to(device)\n",
    "                outputs = model(images)\n",
    "                loss = criterion(outputs, labels)\n",
    "                val_loss += loss.item()\n",
    "                _, predicted = torch.max(outputs.data, 1)\n",
    "                total += labels.size(0)\n",
    "                correct += (predicted == labels).sum().item()\n",
    "        \n",
    "        # Print accuracy for the current epoch\n",
    "        print(f'Epoch {epoch+1}, Loss: {running_loss / len(train_loader)}, ' +\n",
    "              f'Validation Loss: {val_loss / len(val_loader)}, ' +\n",
    "              f'Accuracy: {100 * correct / total}%')\n",
    "\n",
    "    print('Finished Training')\n",
    "\n",
    "model = ResNet18Binary(pretrained=True)\n",
    "train_model(model, train_loader, val_loader, num_epochs=3)"
   ]
  }
 ],
 "metadata": {
  "kernelspec": {
   "display_name": "Python 3",
   "language": "python",
   "name": "python3"
  },
  "language_info": {
   "codemirror_mode": {
    "name": "ipython",
    "version": 3
   },
   "file_extension": ".py",
   "mimetype": "text/x-python",
   "name": "python",
   "nbconvert_exporter": "python",
   "pygments_lexer": "ipython3",
   "version": "3.10.12"
  }
 },
 "nbformat": 4,
 "nbformat_minor": 2
}
