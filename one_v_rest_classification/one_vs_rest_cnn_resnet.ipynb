{
 "cells": [
  {
   "cell_type": "code",
   "execution_count": 7,
   "metadata": {},
   "outputs": [],
   "source": [
    "from torchvision import transforms, datasets\n",
    "from torch.utils.data import DataLoader, random_split\n",
    "import torchvision.models as models\n",
    "import torch.nn as nn\n",
    "import torch\n"
   ]
  },
  {
   "cell_type": "code",
   "execution_count": 8,
   "metadata": {},
   "outputs": [],
   "source": [
    "from torchvision import datasets, transforms\n",
    "from torch.utils.data import Dataset, DataLoader\n",
    "import os\n",
    "from PIL import Image\n",
    "import tqdm\n",
    "\n",
    "\n",
    "class CatNotCatDataset(Dataset):\n",
    "    def __init__(self, root_dir, transform=None):\n",
    "        \"\"\"\n",
    "        Args:\n",
    "            root_dir (string): Directory with all the animal subdirectories.\n",
    "            transform (callable, optional): Optional transform to be applied on a sample.\n",
    "        \"\"\"\n",
    "        self.root_dir = root_dir\n",
    "        self.transform = transform\n",
    "        self.samples = []\n",
    "\n",
    "        # Separate handling for 'cat' and 'not cat' images\n",
    "        for sub_dir in os.listdir(root_dir):\n",
    "            class_path = os.path.join(root_dir, sub_dir)\n",
    "            if os.path.isdir(class_path):\n",
    "                # Label 1 for cat, 0 for not cat\n",
    "                label = 1 if sub_dir.lower() == 'cat' else 0\n",
    "                # If 'not cat', traverse further into subdirectories\n",
    "                if label == 0:\n",
    "                    for sub_class in os.listdir(class_path):\n",
    "                        sub_class_path = os.path.join(class_path, sub_class)\n",
    "                        if os.path.isdir(sub_class_path):\n",
    "                            for img_file in os.listdir(sub_class_path):\n",
    "                                if img_file.lower().endswith(('png', 'jpg', 'jpeg')):\n",
    "                                    img_path = os.path.join(sub_class_path, img_file)\n",
    "                                    self.samples.append((img_path, label))\n",
    "                else:\n",
    "                    for img_file in os.listdir(class_path):\n",
    "                        if img_file.lower().endswith(('png', 'jpg', 'jpeg')):\n",
    "                            img_path = os.path.join(class_path, img_file)\n",
    "                            self.samples.append((img_path, label))\n",
    "\n",
    "    def __len__(self):\n",
    "        return len(self.samples)\n",
    "\n",
    "    def __getitem__(self, idx):\n",
    "        img_path, label = self.samples[idx]\n",
    "        image = Image.open(img_path)\n",
    "        if self.transform:\n",
    "            image = self.transform(image)\n",
    "        return image, label\n"
   ]
  },
  {
   "cell_type": "code",
   "execution_count": 9,
   "metadata": {},
   "outputs": [],
   "source": [
    "transform = transforms.Compose([\n",
    "    transforms.Resize((224, 224)),  # Resize images to 224x224\n",
    "    transforms.ToTensor(),  # Convert images to PyTorch tensors\n",
    "    transforms.Normalize(mean=[0.485, 0.456, 0.406], std=[0.229, 0.224, 0.225]),  # ImageNet normalization\n",
    "])\n",
    "\n",
    "dataset = CatNotCatDataset(root_dir='one_vs_rest', transform=transform)\n",
    "\n",
    "from torch.utils.data import DataLoader, random_split, Subset\n",
    "\n",
    "def get_dataloaders(dataset, fold, num_folds=3):\n",
    "    total_size = len(dataset)\n",
    "    fraction = 1.0 / num_folds\n",
    "    seg = int(total_size * fraction)\n",
    "    # Calculate the start and end indices for the current fold\n",
    "    start, end = fold * seg, (fold + 1) * seg if fold < num_folds - 1 else total_size\n",
    "    \n",
    "    # Create indices for training and validation\n",
    "    train_indices = list(range(0, start)) + list(range(end, total_size))\n",
    "    val_indices = list(range(start, end))\n",
    "    \n",
    "    # Creating PyTorch datasets for training and validation\n",
    "    train_subset = Subset(dataset, train_indices)\n",
    "    val_subset = Subset(dataset, val_indices)\n",
    "    \n",
    "    # Creating data loaders for training and validation\n",
    "    train_loader = DataLoader(train_subset, batch_size=32, shuffle=True)\n",
    "    val_loader = DataLoader(val_subset, batch_size=32, shuffle=False)\n",
    "    \n",
    "    return train_loader, val_loader"
   ]
  },
  {
   "cell_type": "code",
   "execution_count": 10,
   "metadata": {},
   "outputs": [],
   "source": [
    "class ResNet18CatNotCat(nn.Module):\n",
    "    def __init__(self, num_classes=2):\n",
    "        super(ResNet18CatNotCat, self).__init__()\n",
    "        self.resnet18 = models.resnet18(pretrained=True)\n",
    "        num_ftrs = self.resnet18.fc.in_features\n",
    "        self.resnet18.fc = nn.Linear(num_ftrs, num_classes)\n",
    "        \n",
    "        self.feature_maps = []  # To store the outputs of convolutional layers\n",
    "        self.hooks = []  # To store the hooks\n",
    "\n",
    "        # Function to recursively register hooks on all convolutional layers\n",
    "        def register_hooks(module):\n",
    "            if isinstance(module, nn.Conv2d):\n",
    "                self.hooks.append(module.register_forward_hook(self.hook_fn))\n",
    "            elif isinstance(module, nn.Sequential) or isinstance(module, nn.ModuleList):\n",
    "                for child in module.children():\n",
    "                    register_hooks(child)\n",
    "\n",
    "        # Register hooks to capture the outputs of all convolutional layers\n",
    "        register_hooks(self.resnet18)\n",
    "\n",
    "    def hook_fn(self, module, input, output):\n",
    "        self.feature_maps.append(output)\n",
    "\n",
    "    def forward(self, x):\n",
    "        self.feature_maps = []  # Reset feature maps on each forward pass\n",
    "        x = self.resnet18(x)\n",
    "        return x, self.feature_maps  # Return both the final output and the feature maps\n",
    "\n",
    "    def remove_hooks(self):\n",
    "        for hook in self.hooks:\n",
    "            hook.remove()"
   ]
  },
  {
   "cell_type": "code",
   "execution_count": 11,
   "metadata": {},
   "outputs": [],
   "source": [
    "import matplotlib.pyplot as plt\n",
    "\n",
    "def visualize_feature_maps(feature_maps):\n",
    "    # Assuming feature_maps is a list of tensors from the convolutional layers\n",
    "    for layer, f_map in enumerate(feature_maps):\n",
    "        layer += 1  # Start layer indexing at 1\n",
    "        plt.figure(figsize=(20, 15))\n",
    "        channels = f_map.shape[1]\n",
    "        \n",
    "        for i in range(channels):\n",
    "            plt.subplot(channels // 8 + 1, 8, i + 1)  # Arrange plots in a grid\n",
    "            plt.imshow(f_map[0, i].detach().cpu().numpy(), cmap='gray')\n",
    "            plt.axis('off')\n",
    "        \n",
    "        plt.show()\n"
   ]
  },
  {
   "cell_type": "code",
   "execution_count": 12,
   "metadata": {},
   "outputs": [
    {
     "name": "stdout",
     "output_type": "stream",
     "text": [
      "Starting fold 1/3\n"
     ]
    },
    {
     "name": "stderr",
     "output_type": "stream",
     "text": [
      "100%|██████████| 2/2 [00:03<00:00,  1.63s/it]\n",
      " 33%|███▎      | 1/3 [00:03<00:07,  3.96s/it]"
     ]
    },
    {
     "name": "stdout",
     "output_type": "stream",
     "text": [
      "Epoch 1, Loss: 1.508114993572235, Validation Loss: 1.5895168781280518, Accuracy: 10.0%\n"
     ]
    },
    {
     "name": "stderr",
     "output_type": "stream",
     "text": [
      "100%|██████████| 2/2 [00:03<00:00,  1.67s/it]\n",
      " 67%|██████▋   | 2/3 [00:07<00:04,  4.00s/it]"
     ]
    },
    {
     "name": "stdout",
     "output_type": "stream",
     "text": [
      "Epoch 2, Loss: 0.4756036549806595, Validation Loss: 0.31816595792770386, Accuracy: 80.0%\n"
     ]
    },
    {
     "name": "stderr",
     "output_type": "stream",
     "text": [
      "100%|██████████| 2/2 [00:03<00:00,  1.58s/it]\n",
      "100%|██████████| 3/3 [00:11<00:00,  3.91s/it]\n"
     ]
    },
    {
     "name": "stdout",
     "output_type": "stream",
     "text": [
      "Epoch 3, Loss: 0.1185636855661869, Validation Loss: 0.018176505342125893, Accuracy: 100.0%\n",
      "Finished Training\n",
      "Starting fold 2/3\n"
     ]
    },
    {
     "name": "stderr",
     "output_type": "stream",
     "text": [
      "100%|██████████| 2/2 [00:03<00:00,  1.57s/it]\n",
      " 33%|███▎      | 1/3 [00:03<00:07,  3.73s/it]"
     ]
    },
    {
     "name": "stdout",
     "output_type": "stream",
     "text": [
      "Epoch 1, Loss: 1.2314414978027344, Validation Loss: 0.9124992489814758, Accuracy: 30.0%\n"
     ]
    },
    {
     "name": "stderr",
     "output_type": "stream",
     "text": [
      "100%|██████████| 2/2 [00:03<00:00,  1.65s/it]\n",
      " 67%|██████▋   | 2/3 [00:07<00:03,  3.83s/it]"
     ]
    },
    {
     "name": "stdout",
     "output_type": "stream",
     "text": [
      "Epoch 2, Loss: 0.374253049492836, Validation Loss: 3.3409228324890137, Accuracy: 35.0%\n"
     ]
    },
    {
     "name": "stderr",
     "output_type": "stream",
     "text": [
      "100%|██████████| 2/2 [00:03<00:00,  1.58s/it]\n",
      "100%|██████████| 3/3 [00:11<00:00,  3.79s/it]\n"
     ]
    },
    {
     "name": "stdout",
     "output_type": "stream",
     "text": [
      "Epoch 3, Loss: 0.17251741886138916, Validation Loss: 0.02251262031495571, Accuracy: 100.0%\n",
      "Finished Training\n",
      "Starting fold 3/3\n"
     ]
    },
    {
     "name": "stderr",
     "output_type": "stream",
     "text": [
      "100%|██████████| 2/2 [00:03<00:00,  1.62s/it]\n",
      " 33%|███▎      | 1/3 [00:03<00:07,  3.78s/it]"
     ]
    },
    {
     "name": "stdout",
     "output_type": "stream",
     "text": [
      "Epoch 1, Loss: 0.5021655857563019, Validation Loss: 0.0849669873714447, Accuracy: 95.0%\n"
     ]
    },
    {
     "name": "stderr",
     "output_type": "stream",
     "text": [
      "100%|██████████| 2/2 [00:03<00:00,  1.57s/it]\n",
      " 67%|██████▋   | 2/3 [00:07<00:03,  3.73s/it]"
     ]
    },
    {
     "name": "stdout",
     "output_type": "stream",
     "text": [
      "Epoch 2, Loss: 0.3717193379998207, Validation Loss: 4.082569122314453, Accuracy: 0.0%\n"
     ]
    },
    {
     "name": "stderr",
     "output_type": "stream",
     "text": [
      "100%|██████████| 2/2 [00:03<00:00,  1.62s/it]\n",
      "100%|██████████| 3/3 [00:11<00:00,  3.76s/it]"
     ]
    },
    {
     "name": "stdout",
     "output_type": "stream",
     "text": [
      "Epoch 3, Loss: 0.19213799387216568, Validation Loss: 2.105037212371826, Accuracy: 10.0%\n",
      "Finished Training\n"
     ]
    },
    {
     "name": "stderr",
     "output_type": "stream",
     "text": [
      "\n"
     ]
    }
   ],
   "source": [
    "def train_model(model, train_loader, val_loader, num_epochs=5):\n",
    "    device = torch.device(\"cuda\" if torch.cuda.is_available() else \"cpu\")\n",
    "\n",
    "    model.to(device)\n",
    "    criterion = nn.CrossEntropyLoss()\n",
    "    optimizer = torch.optim.Adam(model.parameters(), lr=0.001)\n",
    "    \n",
    "    for epoch in tqdm.tqdm(range(num_epochs)):\n",
    "        model.train()\n",
    "        running_loss = 0.0\n",
    "        for images, labels in tqdm.tqdm(train_loader):\n",
    "            images, labels = images.to(device), labels.to(device)\n",
    "            optimizer.zero_grad()\n",
    "            outputs, _ = model(images)  # Assuming your model returns outputs and feature maps\n",
    "            loss = criterion(outputs, labels)\n",
    "            loss.backward()\n",
    "            optimizer.step()\n",
    "            running_loss += loss.item()\n",
    "        \n",
    "        # Validation phase\n",
    "        model.eval()\n",
    "        val_loss = 0.0\n",
    "        correct = 0\n",
    "        total = 0\n",
    "        with torch.no_grad():\n",
    "            for images, labels in val_loader:\n",
    "                images, labels = images.to(device), labels.to(device)\n",
    "                outputs, _ = model(images)  # Adjusted to only expect the final output\n",
    "                loss = criterion(outputs, labels)\n",
    "                val_loss += loss.item()\n",
    "                _, predicted = torch.max(outputs.data, 1)\n",
    "                total += labels.size(0)\n",
    "                correct += (predicted == labels).sum().item()\n",
    "        \n",
    "        print(f'Epoch {epoch+1}, Loss: {running_loss / len(train_loader)}, Validation Loss: {val_loss / len(val_loader)}, Accuracy: {100 * correct / total}%')\n",
    "\n",
    "    print('Finished Training')\n",
    "    \n",
    "num_folds = 3\n",
    "num_epochs = 3\n",
    "\n",
    "for fold in range(num_folds):\n",
    "    print(f\"Starting fold {fold+1}/{num_folds}\")\n",
    "    train_loader, val_loader = get_dataloaders(dataset, fold, num_folds)\n",
    "    \n",
    "    # Re-initialize the model for each fold\n",
    "    model = ResNet18CatNotCat(num_classes=2)\n",
    "    \n",
    "    # Train the model on the current fold\n",
    "    train_model(model, train_loader, val_loader, num_epochs)"
   ]
  },
  {
   "cell_type": "code",
   "execution_count": 13,
   "metadata": {},
   "outputs": [],
   "source": [
    "def visualize_feature_maps(feature_maps):\n",
    "    for layer, f_map in enumerate(feature_maps):\n",
    "        layer += 1  # Start layer indexing at 1\n",
    "        plt.figure(figsize=(20, 15))\n",
    "        channels = f_map.shape[1]\n",
    "        \n",
    "        for i in range(min(channels, 64)):  # Visualize up to 64 channels to keep the output manageable\n",
    "            plt.subplot(min(channels // 8 + 1, 8), 8, i + 1)  # Arrange plots in a grid\n",
    "            plt.imshow(f_map[0, i].detach().cpu().numpy(), cmap='gray')\n",
    "            plt.axis('off')\n",
    "        \n",
    "        plt.show()"
   ]
  }
 ],
 "metadata": {
  "kernelspec": {
   "display_name": "Python 3",
   "language": "python",
   "name": "python3"
  },
  "language_info": {
   "codemirror_mode": {
    "name": "ipython",
    "version": 3
   },
   "file_extension": ".py",
   "mimetype": "text/x-python",
   "name": "python",
   "nbconvert_exporter": "python",
   "pygments_lexer": "ipython3",
   "version": "3.10.12"
  }
 },
 "nbformat": 4,
 "nbformat_minor": 2
}
