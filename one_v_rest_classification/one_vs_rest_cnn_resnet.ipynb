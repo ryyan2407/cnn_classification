{
 "cells": [
  {
   "cell_type": "code",
   "execution_count": 39,
   "metadata": {},
   "outputs": [],
   "source": [
    "from torchvision import transforms, datasets\n",
    "from torch.utils.data import DataLoader, random_split\n",
    "import torchvision.models as models\n",
    "import torch.nn as nn\n",
    "import torch\n",
    "from sklearn.model_selection import train_test_split\n"
   ]
  },
  {
   "cell_type": "code",
   "execution_count": 40,
   "metadata": {},
   "outputs": [],
   "source": [
    "from torchvision import datasets, transforms\n",
    "from torch.utils.data import Dataset, DataLoader\n",
    "import os\n",
    "from PIL import Image\n",
    "import tqdm\n",
    "\n",
    "\n",
    "class CatNotCatDataset(Dataset):\n",
    "    def __init__(self, root_dir, transform=None):\n",
    "        self.root_dir = root_dir\n",
    "        self.transform = transform\n",
    "        self.samples = []\n",
    "        self.cat_samples = []\n",
    "        self.not_cat_samples = []\n",
    "\n",
    "        for sub_dir in os.listdir(root_dir):\n",
    "            class_path = os.path.join(root_dir, sub_dir)\n",
    "            if os.path.isdir(class_path):\n",
    "                label = 1 if sub_dir.lower() == 'cat' else 0\n",
    "                target_list = self.cat_samples if label == 1 else self.not_cat_samples\n",
    "                \n",
    "                for img_file in os.listdir(class_path):\n",
    "                    if img_file.lower().endswith(('png', 'jpg', 'jpeg')):\n",
    "                        img_path = os.path.join(class_path, img_file)\n",
    "                        target_list.append((img_path, label))\n",
    "        \n",
    "        # Combine cat and not cat samples\n",
    "        self.samples = self.cat_samples + self.not_cat_samples\n",
    "\n",
    "    def __len__(self):\n",
    "        return len(self.samples)\n",
    "\n",
    "    def __getitem__(self, idx):\n",
    "        img_path, label = self.samples[idx]\n",
    "        image = Image.open(img_path)\n",
    "        if self.transform:\n",
    "            image = self.transform(image)\n",
    "        return image, label"
   ]
  },
  {
   "cell_type": "code",
   "execution_count": 41,
   "metadata": {},
   "outputs": [],
   "source": [
    "transform = transforms.Compose([\n",
    "    transforms.Resize((224, 224)),  # Resize images to 224x224\n",
    "    transforms.ToTensor(),  # Convert images to PyTorch tensors\n",
    "    transforms.Normalize(mean=[0.485, 0.456, 0.406], std=[0.229, 0.224, 0.225]),  # ImageNet normalization\n",
    "])\n",
    "\n",
    "dataset = CatNotCatDataset(root_dir='one_vs_rest', transform=transform)\n",
    "\n",
    "from torch.utils.data import DataLoader, random_split, Subset\n",
    "def check_split_balance(indices, dataset):\n",
    "    labels = [dataset.samples[i][1] for i in indices]\n",
    "    print(f\"Class distribution: {sum(labels)} cats, {len(labels) - sum(labels)} not cats out of {len(labels)} samples\")\n",
    "\n",
    "def get_dataloaders(dataset, test_size=0.2, random_state=42):\n",
    "    # Split cat and not cat samples into training and validation sets separately\n",
    "    cat_train, cat_val = train_test_split(dataset.cat_samples, test_size=0.2, random_state=random_state)\n",
    "    not_cat_train, not_cat_val = train_test_split(dataset.not_cat_samples, test_size=0.2, random_state=random_state)\n",
    "    \n",
    "    # Combine the splits to get the final training and validation sets\n",
    "    train_samples = cat_train + not_cat_train\n",
    "    val_samples = cat_val + not_cat_val\n",
    "    \n",
    "    # Convert lists of samples into Subset objects\n",
    "    train_indices = [dataset.samples.index(sample) for sample in train_samples]\n",
    "    val_indices = [dataset.samples.index(sample) for sample in val_samples]\n",
    "    train_subset = Subset(dataset, train_indices)\n",
    "    val_subset = Subset(dataset, val_indices)\n",
    "    \n",
    "    # Creating data loaders for training and validation\n",
    "    train_loader = DataLoader(train_subset, batch_size=32, shuffle=True)\n",
    "    val_loader = DataLoader(val_subset, batch_size=32, shuffle=False)\n",
    "    \n",
    "    return train_loader, val_loader"
   ]
  },
  {
   "cell_type": "code",
   "execution_count": 42,
   "metadata": {},
   "outputs": [],
   "source": [
    "class ResNet18CatNotCat(nn.Module):\n",
    "    def __init__(self, num_classes=2):\n",
    "        super(ResNet18CatNotCat, self).__init__()\n",
    "        self.resnet18 = models.resnet18(pretrained=True)\n",
    "        num_ftrs = self.resnet18.fc.in_features\n",
    "        self.resnet18.fc = nn.Linear(num_ftrs, num_classes)\n",
    "        \n",
    "        self.feature_maps = []  # To store the outputs of convolutional layers\n",
    "        self.hooks = []  # To store the hooks\n",
    "\n",
    "        # Function to recursively register hooks on all convolutional layers\n",
    "        def register_hooks(module):\n",
    "            if isinstance(module, nn.Conv2d):\n",
    "                self.hooks.append(module.register_forward_hook(self.hook_fn))\n",
    "            elif isinstance(module, nn.Sequential) or isinstance(module, nn.ModuleList):\n",
    "                for child in module.children():\n",
    "                    register_hooks(child)\n",
    "\n",
    "        # Register hooks to capture the outputs of all convolutional layers\n",
    "        register_hooks(self.resnet18)\n",
    "\n",
    "    def hook_fn(self, module, input, output):\n",
    "        self.feature_maps.append(output)\n",
    "\n",
    "    def forward(self, x):\n",
    "        self.feature_maps = []  # Reset feature maps on each forward pass\n",
    "        x = self.resnet18(x)\n",
    "        return x, self.feature_maps  # Return both the final output and the feature maps\n",
    "\n",
    "    def remove_hooks(self):\n",
    "        for hook in self.hooks:\n",
    "            hook.remove()"
   ]
  },
  {
   "cell_type": "code",
   "execution_count": 43,
   "metadata": {},
   "outputs": [],
   "source": [
    "import matplotlib.pyplot as plt\n",
    "\n",
    "def visualize_feature_maps(feature_maps):\n",
    "    # Assuming feature_maps is a list of tensors from the convolutional layers\n",
    "    for layer, f_map in enumerate(feature_maps):\n",
    "        layer += 1  # Start layer indexing at 1\n",
    "        plt.figure(figsize=(20, 15))\n",
    "        channels = f_map.shape[1]\n",
    "        \n",
    "        for i in range(channels):\n",
    "            plt.subplot(channels // 8 + 1, 8, i + 1)  # Arrange plots in a grid\n",
    "            plt.imshow(f_map[0, i].detach().cpu().numpy(), cmap='gray')\n",
    "            plt.axis('off')\n",
    "        \n",
    "        plt.show()\n"
   ]
  },
  {
   "cell_type": "code",
   "execution_count": 48,
   "metadata": {},
   "outputs": [
    {
     "name": "stdout",
     "output_type": "stream",
     "text": [
      "Starting fold 1/3\n"
     ]
    },
    {
     "name": "stderr",
     "output_type": "stream",
     "text": [
      "/home/ryyan/.local/lib/python3.10/site-packages/torchvision/models/_utils.py:208: UserWarning: The parameter 'pretrained' is deprecated since 0.13 and may be removed in the future, please use 'weights' instead.\n",
      "  warnings.warn(\n",
      "/home/ryyan/.local/lib/python3.10/site-packages/torchvision/models/_utils.py:223: UserWarning: Arguments other than a weight enum or `None` for 'weights' are deprecated since 0.13 and may be removed in the future. The current behavior is equivalent to passing `weights=ResNet18_Weights.IMAGENET1K_V1`. You can also use `weights=ResNet18_Weights.DEFAULT` to get the most up-to-date weights.\n",
      "  warnings.warn(msg)\n",
      "100%|██████████| 15/15 [00:39<00:00,  2.64s/it]\n",
      " 33%|███▎      | 1/3 [00:43<01:26, 43.48s/it]"
     ]
    },
    {
     "name": "stdout",
     "output_type": "stream",
     "text": [
      "Epoch 1, Loss: 0.3202224279443423, Validation Loss: 2.6313564777374268, Accuracy: 42.016806722689076%\n"
     ]
    },
    {
     "name": "stderr",
     "output_type": "stream",
     "text": [
      "100%|██████████| 15/15 [00:41<00:00,  2.78s/it]\n",
      " 67%|██████▋   | 2/3 [01:29<00:44, 44.81s/it]"
     ]
    },
    {
     "name": "stdout",
     "output_type": "stream",
     "text": [
      "Epoch 2, Loss: 0.14376907444869477, Validation Loss: 0.2945615539792925, Accuracy: 91.59663865546219%\n"
     ]
    },
    {
     "name": "stderr",
     "output_type": "stream",
     "text": [
      "100%|██████████| 15/15 [00:42<00:00,  2.81s/it]\n",
      "100%|██████████| 3/3 [02:15<00:00, 45.08s/it]\n"
     ]
    },
    {
     "name": "stdout",
     "output_type": "stream",
     "text": [
      "Epoch 3, Loss: 0.05751069579273462, Validation Loss: 0.1908994406403508, Accuracy: 98.31932773109244%\n",
      "Finished Training\n",
      "Starting fold 2/3\n"
     ]
    },
    {
     "name": "stderr",
     "output_type": "stream",
     "text": [
      "100%|██████████| 15/15 [00:41<00:00,  2.77s/it]\n",
      " 33%|███▎      | 1/3 [00:45<01:31, 45.76s/it]"
     ]
    },
    {
     "name": "stdout",
     "output_type": "stream",
     "text": [
      "Epoch 1, Loss: 0.34428858359654746, Validation Loss: 1.5808865539729595, Accuracy: 88.23529411764706%\n"
     ]
    },
    {
     "name": "stderr",
     "output_type": "stream",
     "text": [
      "100%|██████████| 15/15 [00:42<00:00,  2.82s/it]\n",
      " 67%|██████▋   | 2/3 [01:32<00:46, 46.12s/it]"
     ]
    },
    {
     "name": "stdout",
     "output_type": "stream",
     "text": [
      "Epoch 2, Loss: 0.1664735125998656, Validation Loss: 0.18247494287788868, Accuracy: 93.27731092436974%\n"
     ]
    },
    {
     "name": "stderr",
     "output_type": "stream",
     "text": [
      "100%|██████████| 15/15 [00:43<00:00,  2.91s/it]\n",
      "100%|██████████| 3/3 [02:19<00:00, 46.63s/it]\n"
     ]
    },
    {
     "name": "stdout",
     "output_type": "stream",
     "text": [
      "Epoch 3, Loss: 0.04502687333151698, Validation Loss: 1.3819148242473602, Accuracy: 63.865546218487395%\n",
      "Finished Training\n",
      "Starting fold 3/3\n"
     ]
    },
    {
     "name": "stderr",
     "output_type": "stream",
     "text": [
      "100%|██████████| 15/15 [00:42<00:00,  2.82s/it]\n",
      " 33%|███▎      | 1/3 [00:46<01:32, 46.35s/it]"
     ]
    },
    {
     "name": "stdout",
     "output_type": "stream",
     "text": [
      "Epoch 1, Loss: 0.44018866469462714, Validation Loss: 0.767303096174146, Accuracy: 89.91596638655462%\n"
     ]
    },
    {
     "name": "stderr",
     "output_type": "stream",
     "text": [
      "100%|██████████| 15/15 [00:44<00:00,  2.94s/it]\n",
      " 67%|██████▋   | 2/3 [01:34<00:47, 47.32s/it]"
     ]
    },
    {
     "name": "stdout",
     "output_type": "stream",
     "text": [
      "Epoch 2, Loss: 0.2218310061842203, Validation Loss: 1.8402797589078546, Accuracy: 92.43697478991596%\n"
     ]
    },
    {
     "name": "stderr",
     "output_type": "stream",
     "text": [
      "100%|██████████| 15/15 [00:40<00:00,  2.69s/it]\n",
      "100%|██████████| 3/3 [02:18<00:00, 46.28s/it]"
     ]
    },
    {
     "name": "stdout",
     "output_type": "stream",
     "text": [
      "Epoch 3, Loss: 0.13474627994000912, Validation Loss: 0.39895914820954204, Accuracy: 94.11764705882354%\n",
      "Finished Training\n"
     ]
    },
    {
     "name": "stderr",
     "output_type": "stream",
     "text": [
      "\n"
     ]
    }
   ],
   "source": [
    "def train_model(model, train_loader, val_loader, num_epochs=1):\n",
    "    device = torch.device(\"cuda\" if torch.cuda.is_available() else \"cpu\")\n",
    "\n",
    "    model.to(device)\n",
    "    criterion = nn.CrossEntropyLoss()\n",
    "    optimizer = torch.optim.Adam(model.parameters(), lr=0.001)\n",
    "    \n",
    "    for epoch in tqdm.tqdm(range(num_epochs)):\n",
    "        model.train()\n",
    "        running_loss = 0.0\n",
    "        for images, labels in tqdm.tqdm(train_loader):\n",
    "            images, labels = images.to(device), labels.to(device)\n",
    "            optimizer.zero_grad()\n",
    "            outputs, _ = model(images)  # Assuming your model returns outputs and feature maps\n",
    "            loss = criterion(outputs, labels)\n",
    "            loss.backward()\n",
    "            optimizer.step()\n",
    "            running_loss += loss.item()\n",
    "            \n",
    "        \n",
    "        # Validation phase\n",
    "        model.eval()\n",
    "        val_loss = 0.0\n",
    "        correct = 0\n",
    "        total = 0\n",
    "        with torch.no_grad():\n",
    "            for images, labels in val_loader:\n",
    "                images, labels = images.to(device), labels.to(device)\n",
    "                outputs, _ = model(images)  # Adjusted to only expect the final output\n",
    "                loss = criterion(outputs, labels)\n",
    "                val_loss += loss.item()\n",
    "                _, predicted = torch.max(outputs.data, 1)\n",
    "                total += labels.size(0)\n",
    "                correct += (predicted == labels).sum().item()\n",
    "        \n",
    "        print(f'Epoch {epoch+1}, Loss: {running_loss / len(train_loader)}, Validation Loss: {val_loss / len(val_loader)}, Accuracy: {100 * correct / total}%')\n",
    "\n",
    "    print('Finished Training')\n",
    "    visualize_feature_maps(model.feature_maps)\n",
    "    \n",
    "num_folds = 3\n",
    "num_epochs = 3\n",
    "\n",
    "for fold in range(num_folds):\n",
    "    print(f\"Starting fold {fold+1}/{num_folds}\")\n",
    "    train_loader, val_loader = get_dataloaders(dataset, fold, num_folds)\n",
    "    \n",
    "    # Re-initialize the model for each fold\n",
    "    model = ResNet18CatNotCat(num_classes=2)\n",
    "    \n",
    "    # Train the model on the current fold\n",
    "    train_model(model, train_loader, val_loader, num_epochs)"
   ]
  },
  {
   "cell_type": "code",
   "execution_count": null,
   "metadata": {},
   "outputs": [],
   "source": []
  }
 ],
 "metadata": {
  "kernelspec": {
   "display_name": "Python 3",
   "language": "python",
   "name": "python3"
  },
  "language_info": {
   "codemirror_mode": {
    "name": "ipython",
    "version": 3
   },
   "file_extension": ".py",
   "mimetype": "text/x-python",
   "name": "python",
   "nbconvert_exporter": "python",
   "pygments_lexer": "ipython3",
   "version": "3.10.12"
  }
 },
 "nbformat": 4,
 "nbformat_minor": 2
}
